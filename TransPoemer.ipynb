{
 "cells": [
  {
   "cell_type": "markdown",
   "metadata": {},
   "source": [
    "# TransPoemer\n",
    "\n",
    "The **TransPoemer transforms regular sentences into poems**, this by means of a Transformer. The transformation goes as follows:\n",
    "1. First, the keywords of the input sentence are extracted\n",
    "2. Out of the extracted keywords, only the *most important* once are kept, this to exploit the model's creativity whilst still creating a poem related to the input sequence\n",
    "2. The keywords are translated to a poem by means of the Transformer\n",
    "\n",
    "In other words, the Transformer performs a **machine-translation** task, translating keywords to sentences."
   ]
  },
  {
   "cell_type": "markdown",
   "metadata": {},
   "source": [
    "# Transformer\n",
    "\n",
    "## 1. Overview\n",
    "\n",
    "Transformers were first introduced in the paper [Attention is all you need](https://arxiv.org/abs/1706.03762) and have since then become quite popular, with most of its applications in research fields related to Natural Language Processing (**NLP**).\n",
    "\n",
    "In contrast to Recurrent Neural Networks (RNNs), which are often used for Sequence-to-Sequence tasks, the Transformer does not use any recurrence. Instead, the model is entirely made up of linear layers which are connected with the addition of **attention**.\n",
    "\n",
    "There are many variants of the Transformer, with the most popular one being [BERT](https://arxiv.org/abs/1810.04805) (**B**idirectional **E**ncoder **R**epresentations from **T**ransformers)."
   ]
  },
  {
   "cell_type": "markdown",
   "metadata": {},
   "source": [
    "## 2. Components\n",
    "\n",
    "A Transformer is made up of an encoder and decoder. The encoder *encodes* the input sentence into a context vector, and the decoder then *decodes* this context vector to create an output. \n",
    "\n",
    "The image below, representing the default configuration of a Transformer, was taken directly from the original Transformer paper.\n",
    "\n",
    "![transformer](notebook_images/transformer1.png)"
   ]
  },
  {
   "cell_type": "markdown",
   "metadata": {
    "hide_input": true
   },
   "source": [
    "### 2.1. Encoder\n",
    "\n",
    "The **objective** of an encoder is to produce a sequence of **context vectors** that represent the given input.\n",
    "\n",
    "First, the tokens are passed through a standard embedding layer. Next, a **positional encoding** is applied to go against the lack of recurrency present in the model. In other words, without this positional encoding, the model wouldn't be able to know which inputs were neighbouring and which weren't. This positional encoding is applied linearly.\n",
    "\n",
    "Next, the input token and positional embeddings are elementwise summed together to get a vector which contains information about the token and also its position within the sequence. Afterwards, dropout is applied to the combined embeddings to add a form of regularization to the model.\n",
    "\n",
    "\n",
    "The combined embeddings (discussed above) are passed through *N* encoder layers, which results in output that can be used by the decoder.\n",
    "\n",
    "![encoder](notebook_images/transformer-encoder.png)"
   ]
  },
  {
   "cell_type": "markdown",
   "metadata": {
    "hide_input": false
   },
   "source": [
    "### 2.2. Decoder\n",
    "\n",
    "The **objective** of the decoder is to take the encoder representation of the source sentence, and convert it into tokens that try to **approximate the target tokens** as good as possible. Based on *how good* these predicted tokens match their targets, a **loss** is determined. This loss is used to calculate the gradiens that will determine how the model's parameters are updated, this to improve later predictions. \n",
    "\n",
    "The implementation of the decoder is similar to that of the encoder, however, a decoder has two multi-head attention layers, where the encoder only had one. As with the encoder, the decoder also consists out of multiple layers. Note that this number does not have to be equal to that of the encoder.\n",
    "\n",
    "![decoder](notebook_images/transformer-decoder.png)"
   ]
  },
  {
   "cell_type": "markdown",
   "metadata": {},
   "source": [
    "### 2.3. Sequence-to-Sequence\n",
    "\n",
    "Transformers have mutliple application areas such as machine translation or question answering. For our purpose, we want to *translate* a sentence of keywords to a poem, hence, we're interested in the **machine translation task**. This task is also called *sequence-to-sequence* (seq2seq) since an input sequence of keywords is translated into an output sequence representing the poem. This output sequence is predicted one token at a time by the model.\n",
    "\n",
    "The training of this type of Transformers happens by extending the mask of the target sequence one iteration at a time:\n",
    "\n",
    "$$\n",
    "\\begin{array}{cccc} \n",
    "1 & 0 & 0 & 0\\\\ \n",
    "1 & 1 & 0 & 0\\\\ \n",
    "1 & 1 & 1 & 0\\\\ \n",
    "1 & 1 & 1 & 1\\\\\n",
    "\\end{array}\n",
    "$$ "
   ]
  },
  {
   "cell_type": "markdown",
   "metadata": {},
   "source": [
    "## 3. Chosen Implementation\n",
    "\n",
    "The Transformer implemented in this project is **mainly influenced by the [pytorch-seq2seq](https://github.com/bentrevett/pytorch-seq2seq) implementation**, which on its part is based on the [HuggingFace](https://huggingface.co/transformers/) implementation. The main differences between the former and the latter being:\n",
    "* This implementation uses **learned positional encoding** instead of a static one\n",
    "* A **standard Adam optimizer with static learning rate** is used instead of one with warm-op and cool-down steps, this to simplify the training process\n",
    "* Label smoothing is not used\n",
    "\n",
    "The resulting Transformer is a slightly simplified version, but one which should suffice for our goal.\n",
    "\n",
    "Since the Transformer should be able to train on a laptop (4GB of GPU-memory, supported by NVIDIA's CUDA), the model's parameters were deliberately chosen small. Another benefit of using a smaller model is that less data samples are needed to train the model on.\n",
    "\n",
    "This simplified model, implemented using the [pytoch-seq2seq library](https://github.com/bentrevett/pytorch-seq2seq/), has the following configuration:\n",
    "* Dimension of the hidden layer: `128`\n",
    "* Number of encoder layers (for each head): `3`\n",
    "* Number of decoder layers (for each head): `3`\n",
    "* Number of encoder heads: `8`\n",
    "* Number of decoder heads: `8`\n",
    "* Dimension of the encoder's point-wise feedforward layer: `256`\n",
    "* Dimension of the decoder's point-wise feedforward layer: `256`\n",
    "* Dropout ratio present in the encoder: `0.1` <br> $\\rightarrow$ Dropout is applied on the positional encoded embeddings\n",
    "* Dropout ratio present in the decoder: `0.1` <br> $\\rightarrow$ Dropout is applied on the combined embeddings"
   ]
  },
  {
   "cell_type": "markdown",
   "metadata": {},
   "source": [
    " "
   ]
  },
  {
   "cell_type": "markdown",
   "metadata": {},
   "source": [
    "# Data\n",
    "\n",
    "Two different types of datasets were used to train the model on. A first dataset that consists of [quotes](https://www.kaggle.com/manann/quotes-500k) is used to pre-train the model. The raw quotes dataset contains more than **500,000 samples**. The second dataset that consists of [limericks](https://raw.githubusercontent.com/sballas8/PoetRNN/master/data/limericks.csv) is used to fine-tune the model on our target task. The latter dataset contains around **90,000 samples**.\n",
    "\n",
    "For both the datasets, the same *general* processing applied: for each sentence, the *most important* keywords were extracted using the [Natural Language ToolKit](https://www.nltk.org/) (NLTK), which is based on the **TF-IDF rule**. The model's inputs are these keywords, with the corresponding targets the original sentences."
   ]
  },
  {
   "cell_type": "markdown",
   "metadata": {},
   "source": [
    "## 1. Processing\n",
    "\n",
    "Both datasets are processed in the same way. The main steps done during processing are:\n",
    "* Non-english texts were removed\n",
    "* Special, non-latin symbols (e.g. ◆ or '\\n') were replaced by a blank space\n",
    "* Sequences exceeding the maximum length (68) were split on a \".\", \"?\" or \"!\"\n",
    "\n",
    "The reason why a **maximum length of 68** is chosen is because almost all of the (encoded) limericks fall within this boundary (see below). "
   ]
  },
  {
   "cell_type": "markdown",
   "metadata": {},
   "source": [
    "## 2. Quotes\n",
    "\n",
    "This dataset is used for **pre-training** the model. The pre-training will happen in two phases:\n",
    "1. First, the Transformer is trained as an **auto-encoder**, which implies that the target-output is equal to the sample's input.\n",
    "2. Second, the Transformer is trained on the **keyword-to-sentence translation** task, with a sample's most important keywords as input and the sample itself as the target output.\n",
    "\n",
    "As mentioned before, the [raw quotes dataset](https://www.kaggle.com/manann/quotes-500k) contains around 500,000 samples. Due to the fact a large portion of these samples exceed the sequence length limit of 68 and will be split, the final (processed) dataset has a size of almost **600,000 samples**. The final size-distribution of the processed dataset is shown below.\n",
    "\n",
    "<img src=\"data/images/sequence_length_pre-training.png\" alt=\"pre-training data - quotes\" style=\"width: 600px;\"/>"
   ]
  },
  {
   "cell_type": "markdown",
   "metadata": {},
   "source": [
    "## 3. Limericks\n",
    "\n",
    "The [limericks dataset](https://raw.githubusercontent.com/sballas8/PoetRNN/master/data/limericks.csv) is used to fine-tune the model on the **keyword-to-sentence translation** task. By now, the model should be capable to predict a sentence based on a sequence of keywords to some degree of quality. The limericks are used to fine-tune this translation such that more poem-like output will be predicted. \n",
    "\n",
    "In its raw form, the dataset contains a little above **90,000 samples**, which remains almost the same after processing. This is since almost all of the limericks fall within the maximum sequence length (see figure below).\n",
    "\n",
    "<img src=\"data/images/sequence_length_combined.png\" alt=\"training data - limericks\" style=\"width: 600px;\"/>"
   ]
  },
  {
   "cell_type": "markdown",
   "metadata": {},
   "source": [
    "## 4. Tokenizer\n",
    "\n",
    "Since a model can only read numeric inputs, the input-sentences must be tokenized before feeding them to the model. A naive tokenizer would split a sentence to form a list containing each of the sentence's words in order, but this would not be the best tokenizer since the size of the tokenizer's vocabulary would increase dramatically (i.e. increase for every unique word).\n",
    "\n",
    "Instead of using a hand-made tokenizer, one of the [HuggingFace models](https://huggingface.co/transformers/model_doc/albert.html)'s tokenizer is used: the [AlbertTokenizer](https://huggingface.co/transformers/model_doc/albert.html#alberttokenizer). This tokenizer is able to encode the majority of sentences with only a limited amount of tokens needed. Originally, the tokenizer has a vocabulary size of 30,000 unique tokens. We've decided to decrease this by **pruning the tokens** that were not often used in the limericks training dataset, resulting in a final **vocabulary size of 16,000**. Tokens encoded by the AlbertTokenizer not present in the token-vocabulary will be encoded by the `<unk>` token. This decision has a huge impact on the number of **parameters used by the model**, which is (after the reduction in vocabulary size) *only* **7,036,327**."
   ]
  },
  {
   "cell_type": "markdown",
   "metadata": {},
   "source": [
    " "
   ]
  },
  {
   "cell_type": "markdown",
   "metadata": {},
   "source": [
    "# Training\n",
    "\n",
    "As mentioned above, the training of the model is done in three consecutive steps:\n",
    "1. Train the model as an **auto-encoder** on a **machine translation** (sequence-to-sequence) task where the input is the same as the output\n",
    "2. Train the model as a **machine translator** where a **sentence must be predicted based on a limited set of keywords**\n",
    "3. Train the model as a **machine translator** where a **poem must be predicted based on a limited set of keywords**\n",
    "\n",
    "Each training process happens in batch-mode, with **batches of 64 samples**, which is the maximum size before running into memory related problems."
   ]
  },
  {
   "cell_type": "markdown",
   "metadata": {},
   "source": [
    "## 1. Pre-training the auto-encoder\n",
    "\n",
    "The pre-training on the auto-encoding task is only ran for **1 epoch** since the model learns fairly quickly that the input is directly mappen upon the target output (note that 1 epoch of training still contains almost **10,000 iterations**). \n",
    "\n",
    "The linear mapping between input and output is clearly seen the attention layer of each of the model's heads:\n",
    "\n",
    "<img src=\"notebook_images/auto_encoder.png\" alt=\"example of attention in auto-encoder\" style=\"width: 400px;\"/>"
   ]
  },
  {
   "cell_type": "markdown",
   "metadata": {},
   "source": [
    "## 2. Pre-training the keyword-to-sentence translation\n",
    "\n",
    "During this pre-training phase, each sample has its **five most important keywords extracted**, which are then used as inputs to the model. The goal of the this task is to **predict the original sample** via its extracted keywords.\n",
    "\n",
    "**10 epochs** of training are executed. **Early stopping** is applied such that the model would stop training if the *best* validation loss hasn't improved (i.e. decreased) in the last three epochs (validation loss is determined after each epoch of training). Each epoch that the validation loss didn't decrease, the **learning rate is halved**.\n",
    "\n",
    "The progress of the pre-training went as follows:"
   ]
  },
  {
   "cell_type": "code",
   "execution_count": 1,
   "metadata": {
    "hide_input": true
   },
   "outputs": [],
   "source": [
    "import matplotlib.pyplot as plt\n",
    "import numpy as np"
   ]
  },
  {
   "cell_type": "code",
   "execution_count": 20,
   "metadata": {},
   "outputs": [],
   "source": [
    "%%capture\n",
    "\"\"\"\n",
    "My dumb-ass only had text-outputs of the training process, hence, the losses are added below by hand based \n",
    "on the last training evaluation.\n",
    "\"\"\"\n",
    "train_loss = [\n",
    "    4.012,  # 1\n",
    "    3.389,\n",
    "    3.254,\n",
    "    3.183,\n",
    "    3.135,  # 5\n",
    "    3.103,\n",
    "    3.078,\n",
    "    3.059,\n",
    "    3.044,\n",
    "    3.032,  # 10\n",
    "]\n",
    "val_loss = [\n",
    "    2.988,  # 1\n",
    "    2.820,\n",
    "    2.768,\n",
    "    2.715,\n",
    "    2.704,  # 5\n",
    "    2.665,\n",
    "    2.663,\n",
    "    2.648,\n",
    "    2.640,\n",
    "    2.623,  # 10\n",
    "]"
   ]
  },
  {
   "cell_type": "code",
   "execution_count": 21,
   "metadata": {
    "hide_input": true
   },
   "outputs": [
    {
     "data": {
      "image/png": "[encoded data removed]",
      "text/plain": [
       "<Figure size 720x200.016 with 1 Axes>"
      ]
     },
     "metadata": {
      "needs_background": "light"
     },
     "output_type": "display_data"
    }
   ],
   "source": [
    "# Plot the losses throughout the pre-training\n",
    "# Set the figure-shape\n",
    "plt.figure(figsize=(len(train_loss),(max(train_loss+val_loss)-min(train_loss+val_loss))*2))\n",
    "\n",
    "# Declare the figure's contents\n",
    "yticks = range(1,len(train_loss)+1)\n",
    "plt.plot(yticks, train_loss, label='Training Loss', color='blue')\n",
    "plt.axhline(min(train_loss), color='blue', linestyle='dotted')\n",
    "plt.plot(yticks, val_loss, label='Validation Loss', color='green')\n",
    "plt.axhline(min(val_loss), color='green', linestyle='dotted')\n",
    "\n",
    "# Adjust how the figure is displayed\n",
    "plt.legend()\n",
    "plt.title(\"Pre-training\")\n",
    "plt.xlabel(\"epoch\")\n",
    "plt.ylabel(\"loss\")\n",
    "plt.gca().xaxis.grid(True)\n",
    "plt.xlim(left=1, right=len(train_loss))\n",
    "plt.show()"
   ]
  },
  {
   "cell_type": "code",
   "execution_count": null,
   "metadata": {},
   "outputs": [],
   "source": [
    "# TODO: Example predictions, heatmap of attention layer?"
   ]
  },
  {
   "cell_type": "markdown",
   "metadata": {},
   "source": [
    "## 3. Fine-tuning the keyword-to-poem translation\n",
    "\n",
    "At this point, the model is capable of predicting a well-constructed sentence based on a limited set of keywords. The only problem is that the predicted sentence isn't yet *poem-like*. This problem is resolved by fine-tuning the model on a set of limericks. A **limerick** is a short, usually humorous verse with a strict **rhyming scheme of AABBA** (i.e. the first, second and fifth line rhyme, while the third and fourth lines share a different rhyme).\n",
    "\n",
    "The model will train over **20 epochs**, with the **same conditions as the previous training**: early stopping when the validation loss hasn't decreased in the last three iterations and halving the learning rate after each epoch the validation loss didn't decrease.\n",
    "\n",
    "The progress of training is visualized below:"
   ]
  },
  {
   "cell_type": "code",
   "execution_count": 35,
   "metadata": {},
   "outputs": [],
   "source": [
    "%%capture\n",
    "\"\"\"\n",
    "My dumb-ass only had text-outputs of the training process, hence, the losses are added below by hand based \n",
    "on the last training evaluation.\n",
    "\"\"\"\n",
    "train_loss = [\n",
    "    3.414,  # 1\n",
    "    3.245,\n",
    "    3.161,\n",
    "    3.098,\n",
    "    3.048,  # 5\n",
    "    3.005,\n",
    "    2.939,\n",
    "    2.909,\n",
    "    2.873,\n",
    "    2.857,  # 10\n",
    "    \n",
    "]\n",
    "val_loss = [\n",
    "    3.139,  # 1\n",
    "    3.094,\n",
    "    3.085,\n",
    "    3.048,\n",
    "    3.040,  # 5\n",
    "    3.047,\n",
    "    3.031,\n",
    "    3.033,\n",
    "    3.028,\n",
    "    3.025,  # 10  # Best\n",
    "    \n",
    "]"
   ]
  },
  {
   "cell_type": "code",
   "execution_count": 36,
   "metadata": {},
   "outputs": [
    {
     "data": {
      "image/png": "[encoded data removed]",
      "text/plain": [
       "<Figure size 720x160.416 with 1 Axes>"
      ]
     },
     "metadata": {
      "needs_background": "light"
     },
     "output_type": "display_data"
    }
   ],
   "source": [
    "# Plot the losses throughout the pre-training\n",
    "# Set the figure-shape\n",
    "plt.figure(figsize=(len(train_loss),(max(train_loss+val_loss)-min(train_loss+val_loss))*4))\n",
    "\n",
    "# Declare the figure's contents\n",
    "yticks = range(1,len(train_loss)+1)\n",
    "plt.plot(yticks, train_loss, label='Training Loss', color='blue')\n",
    "plt.axhline(min(train_loss), color='blue', linestyle='dotted')\n",
    "plt.plot(yticks, val_loss, label='Validation Loss', color='green')\n",
    "plt.axhline(min(val_loss), color='green', linestyle='dotted')\n",
    "\n",
    "# Adjust how the figure is displayed\n",
    "plt.legend()\n",
    "plt.title(\"Training\")\n",
    "plt.xlabel(\"epoch\")\n",
    "plt.ylabel(\"loss\")\n",
    "plt.gca().xaxis.grid(True)\n",
    "plt.xlim(left=1, right=len(train_loss))\n",
    "plt.show()"
   ]
  },
  {
   "cell_type": "markdown",
   "metadata": {},
   "source": [
    "# Evaluation\n",
    "\n",
    "Now we have a fully trained model, it's time to evaluate its performance."
   ]
  },
  {
   "cell_type": "code",
   "execution_count": null,
   "metadata": {},
   "outputs": [],
   "source": [
    "# TODO: visualize the evaluation of the model"
   ]
  },
  {
   "cell_type": "markdown",
   "metadata": {},
   "source": [
    "# Using the model\n",
    "\n",
    "Eventually, the model can be used for its target goal: **transforming regular sentences into poems**. "
   ]
  },
  {
   "cell_type": "code",
   "execution_count": null,
   "metadata": {},
   "outputs": [],
   "source": [
    "# TODO: Give an environment to perform a hands-on with the model"
   ]
  },
  {
   "cell_type": "code",
   "execution_count": 1,
   "metadata": {},
   "outputs": [],
   "source": [
    "from tokenizers.tokenizer_main import TokenizerMain"
   ]
  },
  {
   "cell_type": "code",
   "execution_count": 2,
   "metadata": {},
   "outputs": [],
   "source": [
    "tok = TokenizerMain()"
   ]
  },
  {
   "cell_type": "code",
   "execution_count": 12,
   "metadata": {},
   "outputs": [],
   "source": [
    "src = \"one wants even try even take first step working relationships\"\n",
    "enc = tok.tokenize(src)"
   ]
  },
  {
   "cell_type": "code",
   "execution_count": 16,
   "metadata": {},
   "outputs": [],
   "source": [
    "src_indexes = [tok.EN.vocab.stoi[token] if token in tok.EN.vocab.stoi else tok.EN.vocab.stoi[tok.EN.unk_token] for token in enc]"
   ]
  },
  {
   "cell_type": "code",
   "execution_count": 17,
   "metadata": {},
   "outputs": [
    {
     "data": {
      "text/plain": [
       "[42, 1080, 259, 237, 259, 113, 134, 1476, 1230, 0]"
      ]
     },
     "execution_count": 17,
     "metadata": {},
     "output_type": "execute_result"
    }
   ],
   "source": [
    "src_indexes"
   ]
  },
  {
   "cell_type": "code",
   "execution_count": null,
   "metadata": {},
   "outputs": [],
   "source": []
  }
 ],
 "metadata": {
  "hide_input": false,
  "kernelspec": {
   "display_name": "Python 3",
   "language": "python",
   "name": "python3"
  },
  "language_info": {
   "codemirror_mode": {
    "name": "ipython",
    "version": 3
   },
   "file_extension": ".py",
   "mimetype": "text/x-python",
   "name": "python",
   "nbconvert_exporter": "python",
   "pygments_lexer": "ipython3",
   "version": "3.7.5"
  },
  "toc": {
   "base_numbering": 1,
   "nav_menu": {},
   "number_sections": false,
   "sideBar": true,
   "skip_h1_title": false,
   "title_cell": "Table of Contents",
   "title_sidebar": "Contents",
   "toc_cell": false,
   "toc_position": {},
   "toc_section_display": true,
   "toc_window_display": false
  }
 },
 "nbformat": 4,
 "nbformat_minor": 4
}
